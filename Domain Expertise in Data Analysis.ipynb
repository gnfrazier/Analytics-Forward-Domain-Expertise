{
 "cells": [
  {
   "cell_type": "markdown",
   "metadata": {
    "slideshow": {
     "slide_type": "slide"
    }
   },
   "source": [
    "<center><h1>Domain Expertise in Data Analysis</h1></center>\n",
    "<center><h3>Greg Frazier</h3></center>\n",
    "<center><h3>Twitter: @gnfrazier</h3></center>\n",
    "<center><h3>github.com/gnfrazier</h3></center>"
   ]
  },
  {
   "cell_type": "markdown",
   "metadata": {
    "slideshow": {
     "slide_type": "slide"
    }
   },
   "source": [
    "<center><h2>Venn Diagram of Data Science</h2></center>\n",
    "\n",
    "<center><img src=\"data_venn_diagram.jpg\"></center>\n",
    "\n",
    "<center>http://www.prooffreader.com/2016/09/battle-of-data-science-venn-diagrams.html</center>\n"
   ]
  },
  {
   "cell_type": "markdown",
   "metadata": {
    "slideshow": {
     "slide_type": "slide"
    }
   },
   "source": [
    "## What is Domain Expertise?\n",
    "\n",
    "### Domain Knowledge\n",
    "### Subject Matter Expert\n",
    "### Professional"
   ]
  },
  {
   "cell_type": "markdown",
   "metadata": {
    "slideshow": {
     "slide_type": "slide"
    }
   },
   "source": [
    "## Why is it important?\n",
    "- Domain Specific Terms and Acronyms\n",
    "- Metric Parameters\n",
    "    - Definitions\n",
    "    - Criteria\n",
    "    - Variation from company to company\n",
    "- Understanding Field Names and Data Structures\n",
    "- All important Gut Check\n",
    "- Allows faster iteration and discovery\n",
    "- Communication and Presentation"
   ]
  },
  {
   "cell_type": "markdown",
   "metadata": {},
   "source": [
    "## When?\n",
    "\n",
    "# Always and Constantly\n",
    "\n",
    "\"Not growing your career you are slowing your career\" - Phil Burgess"
   ]
  },
  {
   "cell_type": "markdown",
   "metadata": {
    "slideshow": {
     "slide_type": "slide"
    }
   },
   "source": [
    "## Digging into a Vertical - Passive\n",
    "\n",
    "- YouTube\n",
    "- Podcasts\n",
    "- Forums\n",
    "- Social Media"
   ]
  },
  {
   "cell_type": "markdown",
   "metadata": {
    "slideshow": {
     "slide_type": "slide"
    }
   },
   "source": [
    "## Digging into a Vertical - Active\n",
    "\n",
    "- Other Data Analysts and Data Scientists in the company\n",
    "- Sales or Marketing folks down the hall\n",
    "- Meetups\n",
    "- Conferences\n"
   ]
  },
  {
   "cell_type": "markdown",
   "metadata": {
    "slideshow": {
     "slide_type": "slide"
    }
   },
   "source": [
    "## What do I get out of it?\n",
    "- Understanding of strategy that may be out of scope\n",
    "- Trust within the organization\n",
    "- Ability to communicate to executives\n",
    "- Ability to rephrase narratives into terms people understand\n",
    "- You know who to ask"
   ]
  },
  {
   "cell_type": "markdown",
   "metadata": {
    "slideshow": {
     "slide_type": "slide"
    }
   },
   "source": [
    "## Disscussion Points\n",
    "- Industry Survey\n",
    "- Challenges in transitioning from Academia to Private Sector\n",
    "- More resources to learn various segments"
   ]
  }
 ],
 "metadata": {
  "celltoolbar": "Slideshow",
  "kernelspec": {
   "display_name": "Python 3",
   "language": "python",
   "name": "python3"
  },
  "language_info": {
   "codemirror_mode": {
    "name": "ipython",
    "version": 3
   },
   "file_extension": ".py",
   "mimetype": "text/x-python",
   "name": "python",
   "nbconvert_exporter": "python",
   "pygments_lexer": "ipython3",
   "version": "3.7.1"
  }
 },
 "nbformat": 4,
 "nbformat_minor": 2
}
